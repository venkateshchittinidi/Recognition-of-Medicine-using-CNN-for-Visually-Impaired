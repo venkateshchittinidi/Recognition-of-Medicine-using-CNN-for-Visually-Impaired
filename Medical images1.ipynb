{
 "cells": [
  {
   "cell_type": "code",
   "execution_count": 50,
   "metadata": {},
   "outputs": [],
   "source": [
    "from PIL import Image\n",
    "import pandas as pd\n",
    "import numpy as np\n",
    "import os\n",
    "import tensorflow as tf\n",
    "import keras\n",
    "import warnings\n",
    "warnings.filterwarnings(\"ignore\")"
   ]
  },
  {
   "cell_type": "code",
   "execution_count": 51,
   "metadata": {},
   "outputs": [],
   "source": [
    "import keras"
   ]
  },
  {
   "cell_type": "code",
   "execution_count": 52,
   "metadata": {},
   "outputs": [],
   "source": [
    "def cnn_model(path_loc):\n",
    "    import tensorflow as tf\n",
    "    import keras\n",
    "    from keras.models import Sequential\n",
    "    from keras.layers import Convolution2D\n",
    "    from keras.layers import MaxPool2D\n",
    "    from keras.layers import Flatten\n",
    "    from keras.layers import Dense\n",
    "    \n",
    "    # Initializing CNN\n",
    "        \n",
    "    classifier = Sequential()\n",
    "    \n",
    "    # Step 1 : convolution\n",
    "    classifier.add(Convolution2D(32,3,3,input_shape=(128,128,3),activation='relu'))\n",
    "\n",
    "    # Step 2 : Pooling\n",
    "    classifier.add(MaxPool2D(pool_size=(2,2)))\n",
    "\n",
    "    # Adding second convolution layer.\n",
    "    classifier.add(Convolution2D(32,3,3,activation='relu'))\n",
    "    classifier.add(MaxPool2D(pool_size=(2,2)))\n",
    "        \n",
    "    # step 3 : flattening\n",
    "    classifier.add(Flatten())\n",
    "\n",
    "    # step 4 : Full connection\n",
    "    classifier.add(Dense(units= 128,activation='relu')) \n",
    "    classifier.add(Dense(units=2,activation='softmax'))\n",
    "\n",
    "    classifier.compile(optimizer='adam',metrics=['accuracy'],loss='categorical_crossentropy')\n",
    "\n",
    "    # fitting CNN to the images\n",
    "\n",
    "    from keras.preprocessing.image import ImageDataGenerator\n",
    "\n",
    "    train_datagen = ImageDataGenerator(rescale = 1./255, # image agumentation\n",
    "                                   shear_range = 0.2,\n",
    "                                   zoom_range = 0.2,\n",
    "                                   horizontal_flip = True)\n",
    "    test_datagen = ImageDataGenerator(rescale=1./255) # test data don't need much image agumentation.\n",
    "    import os\n",
    "\n",
    "    os.chdir(path_loc) # train and test path location\n",
    "    training_set = train_datagen.flow_from_directory('F:/NIT/2020-New_projects/NITPIP09 - Recognition of Medicine using CNN for Visually Impaired/DATASET',\n",
    "                                                 target_size = (128, 128),\n",
    "                                                 batch_size = 12,\n",
    "                                                 class_mode = 'categorical') \n",
    "\n",
    "    test_set = test_datagen.flow_from_directory('F:/NIT/2020-New_projects/NITPIP09 - Recognition of Medicine using CNN for Visually Impaired/DATASET',\n",
    "                                            target_size = (128, 128),\n",
    "                                            batch_size = 12,\n",
    "                                           class_mode = 'categorical')\n",
    "\n",
    "    # buliding model and performing model validation simultaneously\n",
    "    history=classifier.fit_generator(training_set,\n",
    "                         steps_per_epoch = 12, # number of images to be taken from training data set. \n",
    "                         epochs  = 15, \n",
    "                         validation_data = test_set,\n",
    "                         validation_steps = 10) # number of images to be taken from test data set.\n",
    "\n",
    "    return (training_set ,classifier,history)\n",
    "\n",
    "\n"
   ]
  },
  {
   "cell_type": "code",
   "execution_count": 33,
   "metadata": {},
   "outputs": [
    {
     "name": "stdout",
     "output_type": "stream",
     "text": [
      "Found 261 images belonging to 2 classes.\n",
      "Found 261 images belonging to 2 classes.\n",
      "Epoch 1/15\n",
      "12/12 [==============================] - 1s 117ms/step - loss: 0.7156 - accuracy: 0.4610 - val_loss: 0.6825 - val_accuracy: 0.5750\n",
      "Epoch 2/15\n",
      "12/12 [==============================] - 1s 96ms/step - loss: 0.6779 - accuracy: 0.5625 - val_loss: 0.6676 - val_accuracy: 0.5667\n",
      "Epoch 3/15\n",
      "12/12 [==============================] - 1s 102ms/step - loss: 0.6620 - accuracy: 0.6170 - val_loss: 0.6517 - val_accuracy: 0.6417\n",
      "Epoch 4/15\n",
      "12/12 [==============================] - 1s 107ms/step - loss: 0.6430 - accuracy: 0.6667 - val_loss: 0.6330 - val_accuracy: 0.6250\n",
      "Epoch 5/15\n",
      "12/12 [==============================] - 1s 103ms/step - loss: 0.6066 - accuracy: 0.6879 - val_loss: 0.6746 - val_accuracy: 0.5750\n",
      "Epoch 6/15\n",
      "12/12 [==============================] - 1s 107ms/step - loss: 0.6099 - accuracy: 0.6950 - val_loss: 0.5210 - val_accuracy: 0.7750\n",
      "Epoch 7/15\n",
      "12/12 [==============================] - 1s 100ms/step - loss: 0.5339 - accuracy: 0.7376 - val_loss: 0.5997 - val_accuracy: 0.6417\n",
      "Epoch 8/15\n",
      "12/12 [==============================] - 1s 100ms/step - loss: 0.5284 - accuracy: 0.7376 - val_loss: 0.5015 - val_accuracy: 0.7833\n",
      "Epoch 9/15\n",
      "12/12 [==============================] - 1s 103ms/step - loss: 0.4828 - accuracy: 0.7431 - val_loss: 0.5101 - val_accuracy: 0.7417\n",
      "Epoch 10/15\n",
      "12/12 [==============================] - 1s 102ms/step - loss: 0.5129 - accuracy: 0.7014 - val_loss: 0.4832 - val_accuracy: 0.7417\n",
      "Epoch 11/15\n",
      "12/12 [==============================] - 1s 106ms/step - loss: 0.4895 - accuracy: 0.7447 - val_loss: 0.4902 - val_accuracy: 0.7083\n",
      "Epoch 12/15\n",
      "12/12 [==============================] - 1s 101ms/step - loss: 0.4638 - accuracy: 0.7376 - val_loss: 0.4388 - val_accuracy: 0.7750\n",
      "Epoch 13/15\n",
      "12/12 [==============================] - 1s 100ms/step - loss: 0.4474 - accuracy: 0.7708 - val_loss: 0.4519 - val_accuracy: 0.7750\n",
      "Epoch 14/15\n",
      "12/12 [==============================] - 1s 101ms/step - loss: 0.4458 - accuracy: 0.7917 - val_loss: 0.3948 - val_accuracy: 0.8500\n",
      "Epoch 15/15\n",
      "12/12 [==============================] - 1s 115ms/step - loss: 0.3740 - accuracy: 0.8542 - val_loss: 0.3738 - val_accuracy: 0.8667\n"
     ]
    }
   ],
   "source": [
    "training_set ,classifier,history= cnn_model('F:/NIT/2020-New_projects/NITPIP09 - Recognition of Medicine using CNN for Visually Impaired/DATASET')"
   ]
  },
  {
   "cell_type": "code",
   "execution_count": 53,
   "metadata": {},
   "outputs": [],
   "source": [
    "import numpy as np\n",
    "from keras.preprocessing import image"
   ]
  },
  {
   "cell_type": "code",
   "execution_count": 54,
   "metadata": {},
   "outputs": [],
   "source": [
    "%matplotlib inline\n",
    "test_image = image.load_img('F:/NIT/2020-New_projects/NITPIP09 - Recognition of Medicine using CNN for Visually Impaired/DATASET/Cetirizine images/images (67).jpg', target_size = (128, 128))\n",
    "test_image.show()"
   ]
  },
  {
   "cell_type": "code",
   "execution_count": 55,
   "metadata": {},
   "outputs": [
    {
     "data": {
      "text/plain": [
       "(128, 128, 3)"
      ]
     },
     "execution_count": 55,
     "metadata": {},
     "output_type": "execute_result"
    }
   ],
   "source": [
    "test_image = image.img_to_array(test_image)\n",
    "test_image\n",
    "np.shape(test_image) "
   ]
  },
  {
   "cell_type": "code",
   "execution_count": 56,
   "metadata": {},
   "outputs": [
    {
     "data": {
      "text/plain": [
       "(1, 128, 128, 3)"
      ]
     },
     "execution_count": 56,
     "metadata": {},
     "output_type": "execute_result"
    }
   ],
   "source": [
    "test_image = np.expand_dims(test_image, axis = 0)\n",
    "test_image\n",
    "np.shape(test_image)"
   ]
  },
  {
   "cell_type": "code",
   "execution_count": 57,
   "metadata": {},
   "outputs": [],
   "source": [
    "test = training_set.class_indices"
   ]
  },
  {
   "cell_type": "code",
   "execution_count": 58,
   "metadata": {},
   "outputs": [
    {
     "data": {
      "text/plain": [
       "0"
      ]
     },
     "execution_count": 58,
     "metadata": {},
     "output_type": "execute_result"
    }
   ],
   "source": [
    "result = classifier.predict_classes(test_image)\n",
    "result \n",
    "result = result[0]\n",
    "result"
   ]
  },
  {
   "cell_type": "code",
   "execution_count": 59,
   "metadata": {},
   "outputs": [],
   "source": [
    "for key, value in test.items(): \n",
    "        if value == result: \n",
    "            #print(\"The Predected image is\", key)\n",
    "            data = \"The Predected image is\" + key"
   ]
  },
  {
   "cell_type": "code",
   "execution_count": 1,
   "metadata": {},
   "outputs": [],
   "source": [
    "from gtts import gTTS "
   ]
  },
  {
   "cell_type": "code",
   "execution_count": 2,
   "metadata": {},
   "outputs": [],
   "source": [
    "from playsound import playsound"
   ]
  },
  {
   "cell_type": "code",
   "execution_count": 4,
   "metadata": {},
   "outputs": [],
   "source": [
    "data = \"Hello worls\""
   ]
  },
  {
   "cell_type": "code",
   "execution_count": 5,
   "metadata": {},
   "outputs": [],
   "source": [
    "import os \n",
    "mytext = data\n",
    "language = 'en'\n",
    "myobj = gTTS(text=mytext, lang=language, slow=False) \n",
    "myobj.save(\"welcome5.mp3\") \n",
    "os.system(\"mpg321 welcome.mp3\") \n",
    "playsound('welcome5.mp3')"
   ]
  },
  {
   "cell_type": "code",
   "execution_count": null,
   "metadata": {},
   "outputs": [],
   "source": []
  }
 ],
 "metadata": {
  "kernelspec": {
   "display_name": "Python 3",
   "language": "python",
   "name": "python3"
  },
  "language_info": {
   "codemirror_mode": {
    "name": "ipython",
    "version": 3
   },
   "file_extension": ".py",
   "mimetype": "text/x-python",
   "name": "python",
   "nbconvert_exporter": "python",
   "pygments_lexer": "ipython3",
   "version": "3.8.3"
  }
 },
 "nbformat": 4,
 "nbformat_minor": 4
}
