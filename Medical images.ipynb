{
 "cells": [
  {
   "cell_type": "code",
   "execution_count": 1,
   "metadata": {},
   "outputs": [],
   "source": [
    "from PIL import Image\n",
    "import pandas as pd\n",
    "import numpy as np\n",
    "import os\n",
    "import tensorflow as tf\n",
    "import keras\n",
    "import warnings\n",
    "warnings.filterwarnings(\"ignore\")"
   ]
  },
  {
   "cell_type": "code",
   "execution_count": 3,
   "metadata": {},
   "outputs": [],
   "source": [
    "import keras"
   ]
  },
  {
   "cell_type": "code",
   "execution_count": 7,
   "metadata": {},
   "outputs": [],
   "source": [
    "def cnn_model(path_loc):\n",
    "    import tensorflow as tf\n",
    "    import keras\n",
    "    from keras.models import Sequential\n",
    "    from keras.layers import Convolution2D\n",
    "    from keras.layers import MaxPool2D\n",
    "    from keras.layers import Flatten\n",
    "    from keras.layers import Dense\n",
    "    \n",
    "    # Initializing CNN\n",
    "        \n",
    "    classifier = Sequential()\n",
    "    \n",
    "    # Step 1 : convolution\n",
    "    classifier.add(Convolution2D(32,3,3,input_shape=(128,128,3),activation='relu'))\n",
    "\n",
    "    # Step 2 : Pooling\n",
    "    classifier.add(MaxPool2D(pool_size=(2,2)))\n",
    "\n",
    "    # Adding second convolution layer.\n",
    "    classifier.add(Convolution2D(32,3,3,activation='relu'))\n",
    "    classifier.add(MaxPool2D(pool_size=(2,2)))\n",
    "        \n",
    "    # step 3 : flattening\n",
    "    classifier.add(Flatten())\n",
    "\n",
    "    # step 4 : Full connection\n",
    "    classifier.add(Dense(units= 128,activation='relu')) \n",
    "    classifier.add(Dense(units=2,activation='softmax'))\n",
    "\n",
    "    classifier.compile(optimizer='adam',metrics=['accuracy'],loss='categorical_crossentropy')\n",
    "\n",
    "    # fitting CNN to the images\n",
    "\n",
    "    from keras.preprocessing.image import ImageDataGenerator\n",
    "\n",
    "    train_datagen = ImageDataGenerator(rescale = 1./255, # image agumentation\n",
    "                                   shear_range = 0.2,\n",
    "                                   zoom_range = 0.2,\n",
    "                                   horizontal_flip = True)\n",
    "    test_datagen = ImageDataGenerator(rescale=1./255) # test data don't need much image agumentation.\n",
    "    import os\n",
    "\n",
    "    os.chdir(path_loc) # train and test path location\n",
    "    training_set = train_datagen.flow_from_directory('F:/NIT/2020-New_projects/Medical_medicins',\n",
    "                                                 target_size = (128, 128),\n",
    "                                                 batch_size = 12,\n",
    "                                                 class_mode = 'categorical') \n",
    "\n",
    "    test_set = test_datagen.flow_from_directory('F:/NIT/2020-New_projects/Medical_medicins',\n",
    "                                            target_size = (128, 128),\n",
    "                                            batch_size = 12,\n",
    "                                           class_mode = 'categorical')\n",
    "\n",
    "    # buliding model and performing model validation simultaneously\n",
    "    history=classifier.fit_generator(training_set,\n",
    "                         steps_per_epoch = 12, # number of images to be taken from training data set. \n",
    "                         epochs  = 15, \n",
    "                         validation_data = test_set,\n",
    "                         validation_steps = 10) # number of images to be taken from test data set.\n",
    "\n",
    "    return (training_set ,classifier,history)\n",
    "\n",
    "\n"
   ]
  },
  {
   "cell_type": "code",
   "execution_count": 8,
   "metadata": {},
   "outputs": [
    {
     "name": "stdout",
     "output_type": "stream",
     "text": [
      "Found 261 images belonging to 2 classes.\n",
      "Found 261 images belonging to 2 classes.\n",
      "Epoch 1/15\n",
      "12/12 [==============================] - 6s 476ms/step - loss: 0.7128 - accuracy: 0.5390 - val_loss: 0.7225 - val_accuracy: 0.5250\n",
      "Epoch 2/15\n",
      "12/12 [==============================] - 3s 254ms/step - loss: 0.7038 - accuracy: 0.4792 - val_loss: 0.6945 - val_accuracy: 0.4667\n",
      "Epoch 3/15\n",
      "12/12 [==============================] - 2s 178ms/step - loss: 0.6911 - accuracy: 0.5106 - val_loss: 0.6897 - val_accuracy: 0.5083\n",
      "Epoch 4/15\n",
      "12/12 [==============================] - 2s 167ms/step - loss: 0.6958 - accuracy: 0.5390 - val_loss: 0.6820 - val_accuracy: 0.5917\n",
      "Epoch 5/15\n",
      "12/12 [==============================] - 2s 181ms/step - loss: 0.6888 - accuracy: 0.6028 - val_loss: 0.6827 - val_accuracy: 0.6500\n",
      "Epoch 6/15\n",
      "12/12 [==============================] - 2s 193ms/step - loss: 0.6835 - accuracy: 0.5957 - val_loss: 0.6738 - val_accuracy: 0.5750\n",
      "Epoch 7/15\n",
      "12/12 [==============================] - 2s 189ms/step - loss: 0.6760 - accuracy: 0.5674 - val_loss: 0.6824 - val_accuracy: 0.5333\n",
      "Epoch 8/15\n",
      "12/12 [==============================] - 2s 175ms/step - loss: 0.6664 - accuracy: 0.5816 - val_loss: 0.6534 - val_accuracy: 0.6750\n",
      "Epoch 9/15\n",
      "12/12 [==============================] - 2s 181ms/step - loss: 0.6484 - accuracy: 0.6250 - val_loss: 0.6722 - val_accuracy: 0.5500\n",
      "Epoch 10/15\n",
      "12/12 [==============================] - 2s 175ms/step - loss: 0.6420 - accuracy: 0.6383 - val_loss: 0.6030 - val_accuracy: 0.7000\n",
      "Epoch 11/15\n",
      "12/12 [==============================] - 2s 188ms/step - loss: 0.6406 - accuracy: 0.6181 - val_loss: 0.5740 - val_accuracy: 0.6500\n",
      "Epoch 12/15\n",
      "12/12 [==============================] - 2s 162ms/step - loss: 0.6247 - accuracy: 0.6250 - val_loss: 0.6280 - val_accuracy: 0.6833\n",
      "Epoch 13/15\n",
      "12/12 [==============================] - 2s 165ms/step - loss: 0.6067 - accuracy: 0.6454 - val_loss: 0.5757 - val_accuracy: 0.7000\n",
      "Epoch 14/15\n",
      "12/12 [==============================] - 2s 191ms/step - loss: 0.5609 - accuracy: 0.6597 - val_loss: 0.5454 - val_accuracy: 0.6833\n",
      "Epoch 15/15\n",
      "12/12 [==============================] - 2s 168ms/step - loss: 0.5627 - accuracy: 0.6809 - val_loss: 0.5384 - val_accuracy: 0.7250\n"
     ]
    }
   ],
   "source": [
    "training_set ,classifier,history= cnn_model('F:/NIT/2020-New_projects/Medical_medicins')"
   ]
  },
  {
   "cell_type": "code",
   "execution_count": 9,
   "metadata": {},
   "outputs": [],
   "source": [
    "import numpy as np\n",
    "from keras.preprocessing import image"
   ]
  },
  {
   "cell_type": "code",
   "execution_count": 10,
   "metadata": {},
   "outputs": [],
   "source": [
    "%matplotlib inline\n",
    "test_image = image.load_img('F:/NIT/2020-New_projects/Medical_medicins/Cetirizine images/2Q__.jpg', target_size = (128, 128))\n",
    "test_image.show()"
   ]
  },
  {
   "cell_type": "code",
   "execution_count": 11,
   "metadata": {},
   "outputs": [
    {
     "data": {
      "text/plain": [
       "(128, 128, 3)"
      ]
     },
     "execution_count": 11,
     "metadata": {},
     "output_type": "execute_result"
    }
   ],
   "source": [
    "test_image = image.img_to_array(test_image)\n",
    "test_image\n",
    "np.shape(test_image) "
   ]
  },
  {
   "cell_type": "code",
   "execution_count": 12,
   "metadata": {},
   "outputs": [
    {
     "data": {
      "text/plain": [
       "(1, 128, 128, 3)"
      ]
     },
     "execution_count": 12,
     "metadata": {},
     "output_type": "execute_result"
    }
   ],
   "source": [
    "test_image = np.expand_dims(test_image, axis = 0)\n",
    "test_image\n",
    "np.shape(test_image)"
   ]
  },
  {
   "cell_type": "code",
   "execution_count": 13,
   "metadata": {},
   "outputs": [],
   "source": [
    "test = training_set.class_indices"
   ]
  },
  {
   "cell_type": "code",
   "execution_count": 14,
   "metadata": {},
   "outputs": [
    {
     "name": "stdout",
     "output_type": "stream",
     "text": [
      "WARNING:tensorflow:From <ipython-input-14-eac782b4a532>:1: Sequential.predict_classes (from tensorflow.python.keras.engine.sequential) is deprecated and will be removed after 2021-01-01.\n",
      "Instructions for updating:\n",
      "Please use instead:* `np.argmax(model.predict(x), axis=-1)`,   if your model does multi-class classification   (e.g. if it uses a `softmax` last-layer activation).* `(model.predict(x) > 0.5).astype(\"int32\")`,   if your model does binary classification   (e.g. if it uses a `sigmoid` last-layer activation).\n"
     ]
    },
    {
     "data": {
      "text/plain": [
       "0"
      ]
     },
     "execution_count": 14,
     "metadata": {},
     "output_type": "execute_result"
    }
   ],
   "source": [
    "result = classifier.predict_classes(test_image)\n",
    "result \n",
    "result = result[0]\n",
    "result"
   ]
  },
  {
   "cell_type": "code",
   "execution_count": 15,
   "metadata": {},
   "outputs": [
    {
     "name": "stdout",
     "output_type": "stream",
     "text": [
      "The Predected image is Cetirizine images\n"
     ]
    }
   ],
   "source": [
    "for key, value in test.items(): \n",
    "        if value == result: \n",
    "            print(\"The Predected image is\", key)"
   ]
  }
 ],
 "metadata": {
  "kernelspec": {
   "display_name": "Python 3",
   "language": "python",
   "name": "python3"
  },
  "language_info": {
   "codemirror_mode": {
    "name": "ipython",
    "version": 3
   },
   "file_extension": ".py",
   "mimetype": "text/x-python",
   "name": "python",
   "nbconvert_exporter": "python",
   "pygments_lexer": "ipython3",
   "version": "3.8.3"
  }
 },
 "nbformat": 4,
 "nbformat_minor": 4
}
